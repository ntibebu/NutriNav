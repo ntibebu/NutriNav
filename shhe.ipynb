{
 "cells": [
  {
   "cell_type": "code",
   "execution_count": 18,
   "metadata": {},
   "outputs": [
    {
     "name": "stderr",
     "output_type": "stream",
     "text": [
      "/home/ntibebu/.local/lib/python3.10/site-packages/urllib3/connectionpool.py:1099: InsecureRequestWarning: Unverified HTTPS request is being made to host 'dining.umich.edu'. Adding certificate verification is strongly advised. See: https://urllib3.readthedocs.io/en/latest/advanced-usage.html#tls-warnings\n",
      "  warnings.warn(\n"
     ]
    },
    {
     "name": "stdout",
     "output_type": "stream",
     "text": [
      "https://dining.umich.edu/menus-locations/dining-halls/bursley/\n",
      "https://dining.umich.edu/menus-locations/dining-halls/markley/\n",
      "https://dining.umich.edu/menus-locations/dining-halls/select-access/\n"
     ]
    }
   ],
   "source": [
    "from bs4 import BeautifulSoup\n",
    "import requests\n",
    "#https://dining.umich.edu/menus-locations/dining-halls/\n",
    "#requests.get('https://dining.umich.edu/menus-locations/dining-halls/', verify=False)\n",
    "url = 'https://dining.umich.edu/menus-locations/dining-halls/'\n",
    "page = requests.get(url, verify=False)\n",
    "soup = BeautifulSoup(page.text, 'html')\n",
    "#print(soup.prettify())\n",
    "list = soup.find_all('a', class_=\"level_2\")\n",
    "#bursley = list.find('a', href_=\"https://dining.umich.edu/menus-locations/dining-halls/bursley/\")\n",
    "#print(list)\n",
    "#arr = []\n",
    "for a_list in list:\n",
    "    link_text = a_list.text.replace(\" \", \"_\").lower()  # Transform text to variable name format\n",
    "    link = a_list.get('href')\n",
    "    globals()[link_text] = link\n",
    "#print(bursley)\n",
    "print(bursley)\n",
    "print(markley)\n",
    "print(select_access)"
   ]
  },
  {
   "cell_type": "code",
   "execution_count": null,
   "metadata": {},
   "outputs": [],
   "source": []
  }
 ],
 "metadata": {
  "kernelspec": {
   "display_name": "Python 3",
   "language": "python",
   "name": "python3"
  },
  "language_info": {
   "codemirror_mode": {
    "name": "ipython",
    "version": 3
   },
   "file_extension": ".py",
   "mimetype": "text/x-python",
   "name": "python",
   "nbconvert_exporter": "python",
   "pygments_lexer": "ipython3",
   "version": "3.10.12"
  }
 },
 "nbformat": 4,
 "nbformat_minor": 2
}
